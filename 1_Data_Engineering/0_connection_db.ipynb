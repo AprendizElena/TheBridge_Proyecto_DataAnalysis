{
 "cells": [
  {
   "cell_type": "code",
   "execution_count": 1,
   "metadata": {},
   "outputs": [],
   "source": [
    "import mysql.connector\n",
    "from mysql.connector import Error\n",
    "import os\n",
    "from dotenv import load_dotenv\n"
   ]
  },
  {
   "cell_type": "code",
   "execution_count": 2,
   "metadata": {},
   "outputs": [],
   "source": [
    "load_dotenv()\n",
    "\n",
    "host = os.getenv('host')\n",
    "port = os.getenv('port')\n",
    "database = os.getenv('database')\n",
    "user = os.getenv('user')\n",
    "password = os.getenv('password')\n"
   ]
  },
  {
   "cell_type": "code",
   "execution_count": 3,
   "metadata": {},
   "outputs": [
    {
     "name": "stdout",
     "output_type": "stream",
     "text": [
      "✅ Successfully connected to the database\n",
      "💥 Query result: (3,)\n",
      "🔒 MySQL connection is closed\n"
     ]
    }
   ],
   "source": [
    "try:\n",
    "    # Connect to the MySQL database\n",
    "    connection = mysql.connector.connect(\n",
    "        user=user,\n",
    "        password=password,\n",
    "        host=host,\n",
    "        port=port,\n",
    "        database=database\n",
    "    )\n",
    "\n",
    "    if connection.is_connected():\n",
    "        print(\"✅ Successfully connected to the database\")\n",
    "\n",
    "        # Create a cursor and execute the query\n",
    "        cursor = connection.cursor()\n",
    "        cursor.execute(\"SELECT 1 + 2 AS prueba_conn;\")\n",
    "        result = cursor.fetchone()\n",
    "\n",
    "        print(\"💥 Query result:\", result)\n",
    "\n",
    "except Error as e:\n",
    "    print(\"❌ An error occurred:\", e)\n",
    "\n",
    "finally:\n",
    "    if connection.is_connected():\n",
    "        cursor.close()\n",
    "        connection.close()\n",
    "        print(\"🔒 MySQL connection is closed\")"
   ]
  }
 ],
 "metadata": {
  "kernelspec": {
   "display_name": "Python 3",
   "language": "python",
   "name": "python3"
  },
  "language_info": {
   "codemirror_mode": {
    "name": "ipython",
    "version": 3
   },
   "file_extension": ".py",
   "mimetype": "text/x-python",
   "name": "python",
   "nbconvert_exporter": "python",
   "pygments_lexer": "ipython3",
   "version": "3.11.0"
  }
 },
 "nbformat": 4,
 "nbformat_minor": 2
}

{
 "cells": [
  {
   "cell_type": "code",
   "execution_count": 11,
   "metadata": {},
   "outputs": [
    {
     "name": "stdout",
     "output_type": "stream",
     "text": [
      "Requirement already satisfied: mysql-connector-python in c:\\users\\diego gerwig\\appdata\\local\\programs\\python\\python311\\lib\\site-packages (8.4.0)\n"
     ]
    },
    {
     "name": "stderr",
     "output_type": "stream",
     "text": [
      "\n",
      "[notice] A new release of pip available: 22.3 -> 24.1.1\n",
      "[notice] To update, run: python.exe -m pip install --upgrade pip\n"
     ]
    }
   ],
   "source": [
    "!pip install mysql-connector-python"
   ]
  },
  {
   "cell_type": "code",
   "execution_count": 12,
   "metadata": {},
   "outputs": [],
   "source": [
    "import mysql.connector\n",
    "from mysql.connector import Error\n",
    "import os\n",
    "from dotenv import load_dotenv"
   ]
  },
  {
   "cell_type": "code",
   "execution_count": 13,
   "metadata": {},
   "outputs": [],
   "source": [
    "load_dotenv()\n",
    "\n",
    "host = os.getenv('host')\n",
    "port = os.getenv('port')\n",
    "database = os.getenv('database')\n",
    "user = os.getenv('user')\n",
    "password = os.getenv('password')"
   ]
  },
  {
   "cell_type": "code",
   "execution_count": 14,
   "metadata": {},
   "outputs": [],
   "source": [
    "db_config = {\n",
    "    'user': user,\n",
    "    'password': password,\n",
    "    'host': host,\n",
    "    'port': port,\n",
    "    'database': database\n",
    "}\n"
   ]
  },
  {
   "cell_type": "code",
   "execution_count": 15,
   "metadata": {},
   "outputs": [
    {
     "name": "stdout",
     "output_type": "stream",
     "text": [
      "✅ Conexión exitosa a la base de datos\n",
      "💥 Tabla <MunE19_c_mod_municipios> eliminada.\n",
      "💥 Tabla <MunE19_c_mod_resultados_municipios> eliminada.\n",
      "💥 Tabla <MunE19_c_mod_votos_partido_municipios> eliminada.\n",
      "✅ Todas las tablas han sido eliminadas.\n",
      "🔒 La conexión a MySQL ha sido cerrada\n"
     ]
    }
   ],
   "source": [
    "try:\n",
    "    connection = mysql.connector.connect(**db_config)\n",
    "\n",
    "    if connection.is_connected():\n",
    "        print(\"✅ Successfully connected to the database\")\n",
    "\n",
    "        # Create a cursor and fetch all tables\n",
    "        cursor = connection.cursor()\n",
    "        cursor.execute(\"SELECT table_name FROM information_schema.tables WHERE table_schema = %s\", (db_config['database'],))\n",
    "        tables = cursor.fetchall()\n",
    "\n",
    "        # Drop each table\n",
    "        for table in tables:\n",
    "            cursor.execute(f\"DROP TABLE IF EXISTS {table[0]}\")\n",
    "            print(f\"💥 Table <{table[0]}> dropped.\")\n",
    "        \n",
    "        print(\"✅ All tables have been dropped.\")\n",
    "\n",
    "except Error as e:\n",
    "    print(\"❌ Error:\", e)\n",
    "\n",
    "finally:\n",
    "    if connection.is_connected():\n",
    "        cursor.close()\n",
    "        connection.close()\n",
    "        print(\"🔒 MySQL connection has been closed\")\n"
   ]
  }
 ],
 "metadata": {
  "kernelspec": {
   "display_name": "Python 3",
   "language": "python",
   "name": "python3"
  },
  "language_info": {
   "codemirror_mode": {
    "name": "ipython",
    "version": 3
   },
   "file_extension": ".py",
   "mimetype": "text/x-python",
   "name": "python",
   "nbconvert_exporter": "python",
   "pygments_lexer": "ipython3",
   "version": "3.11.0"
  }
 },
 "nbformat": 4,
 "nbformat_minor": 2
}

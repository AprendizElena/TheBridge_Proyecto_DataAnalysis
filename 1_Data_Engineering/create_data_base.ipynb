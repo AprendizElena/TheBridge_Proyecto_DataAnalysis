{
 "cells": [
  {
   "cell_type": "code",
   "execution_count": 1,
   "metadata": {},
   "outputs": [
    {
     "name": "stdout",
     "output_type": "stream",
     "text": [
      "Requirement already satisfied: pandas in c:\\users\\diego\\appdata\\local\\programs\\python\\python311\\lib\\site-packages (2.2.2)\n",
      "Requirement already satisfied: numpy>=1.23.2 in c:\\users\\diego\\appdata\\local\\programs\\python\\python311\\lib\\site-packages (from pandas) (2.0.0)\n",
      "Requirement already satisfied: python-dateutil>=2.8.2 in c:\\users\\diego\\appdata\\roaming\\python\\python311\\site-packages (from pandas) (2.9.0.post0)\n",
      "Requirement already satisfied: pytz>=2020.1 in c:\\users\\diego\\appdata\\local\\programs\\python\\python311\\lib\\site-packages (from pandas) (2024.1)\n",
      "Requirement already satisfied: tzdata>=2022.7 in c:\\users\\diego\\appdata\\local\\programs\\python\\python311\\lib\\site-packages (from pandas) (2024.1)\n",
      "Requirement already satisfied: six>=1.5 in c:\\users\\diego\\appdata\\roaming\\python\\python311\\site-packages (from python-dateutil>=2.8.2->pandas) (1.16.0)\n"
     ]
    },
    {
     "name": "stderr",
     "output_type": "stream",
     "text": [
      "\n",
      "[notice] A new release of pip available: 22.3 -> 24.1\n",
      "[notice] To update, run: python.exe -m pip install --upgrade pip\n"
     ]
    },
    {
     "name": "stdout",
     "output_type": "stream",
     "text": [
      "Requirement already satisfied: mysql-connector-python in c:\\users\\diego\\appdata\\local\\programs\\python\\python311\\lib\\site-packages (8.4.0)\n"
     ]
    },
    {
     "name": "stderr",
     "output_type": "stream",
     "text": [
      "\n",
      "[notice] A new release of pip available: 22.3 -> 24.1\n",
      "[notice] To update, run: python.exe -m pip install --upgrade pip\n"
     ]
    },
    {
     "name": "stdout",
     "output_type": "stream",
     "text": [
      "Requirement already satisfied: sqlalchemy in c:\\users\\diego\\appdata\\local\\programs\\python\\python311\\lib\\site-packages (2.0.31)\n",
      "Requirement already satisfied: typing-extensions>=4.6.0 in c:\\users\\diego\\appdata\\roaming\\python\\python311\\site-packages (from sqlalchemy) (4.12.2)\n",
      "Requirement already satisfied: greenlet!=0.4.17 in c:\\users\\diego\\appdata\\local\\programs\\python\\python311\\lib\\site-packages (from sqlalchemy) (3.0.3)\n"
     ]
    },
    {
     "name": "stderr",
     "output_type": "stream",
     "text": [
      "\n",
      "[notice] A new release of pip available: 22.3 -> 24.1\n",
      "[notice] To update, run: python.exe -m pip install --upgrade pip\n"
     ]
    },
    {
     "name": "stdout",
     "output_type": "stream",
     "text": [
      "Requirement already satisfied: python-dotenv in c:\\users\\diego\\appdata\\local\\programs\\python\\python311\\lib\\site-packages (1.0.1)\n"
     ]
    },
    {
     "name": "stderr",
     "output_type": "stream",
     "text": [
      "\n",
      "[notice] A new release of pip available: 22.3 -> 24.1\n",
      "[notice] To update, run: python.exe -m pip install --upgrade pip\n"
     ]
    }
   ],
   "source": [
    "!pip install pandas \n",
    "!pip install mysql-connector-python\n",
    "!pip install sqlalchemy\n",
    "!pip install python-dotenv\n"
   ]
  },
  {
   "cell_type": "code",
   "execution_count": 2,
   "metadata": {},
   "outputs": [],
   "source": [
    "import pandas as pd\n",
    "import os\n",
    "from dotenv import load_dotenv\n",
    "from sqlalchemy import create_engine, types\n",
    "import mysql.connector\n",
    "from mysql.connector import Error\n"
   ]
  },
  {
   "cell_type": "code",
   "execution_count": 3,
   "metadata": {},
   "outputs": [],
   "source": [
    "def df_to_sql(df, table_name, connection_string):\n",
    "    try:\n",
    "        # Crear un motor de conexión a la base de datos\n",
    "        engine = create_engine(connection_string)\n",
    "\n",
    "        # Añadir una columna de índice como clave primaria si no existe\n",
    "        if 'id' not in df.columns:\n",
    "            df.insert(0, 'id', range(1, 1 + len(df)))\n",
    "\n",
    "        # Obtener el tipo de datos de cada columna en el DataFrame\n",
    "        dtype_dict = {col: types.VARCHAR(length=255) for col in df.columns}\n",
    "        dtype_dict['id'] = types.INTEGER().with_variant(types.BIGINT(), 'sqlite')\n",
    "        \n",
    "        df.to_sql(name=table_name, con=engine, if_exists='replace', index=False, dtype=dtype_dict)\n",
    "        # print(f\"✅ Datos insertados en la tabla {table_name} exitosamente.\")\n",
    "        \n",
    "    except Exception as e:\n",
    "        # print(f\"❌ Error al insertar datos en MySQL: {e}\")\n",
    "        pass\n"
   ]
  },
  {
   "cell_type": "code",
   "execution_count": 4,
   "metadata": {},
   "outputs": [
    {
     "name": "stdout",
     "output_type": "stream",
     "text": [
      "            TH  Cod Comarca  Cod Municipio               Ámbito   Censo  \\\n",
      "0  Araba-Alava            1             59      VITORIA-GASTEIZ  190184   \n",
      "1  Araba-Alava            2              1     ALEGRÍA-DULANTZI    2016   \n",
      "2  Araba-Alava            2              3              ARAMAIO    1176   \n",
      "3  Araba-Alava            2              6              ARMIÑÓN     176   \n",
      "4  Araba-Alava            2              8  ARRATZUA-UBARRUNDIA     803   \n",
      "\n",
      "   Votantes  Nulos  Válidos  Blancos  Votos Candidatura  ...  CPE  MIEL  IZQP  \\\n",
      "0    119287  798.0   118489    908.0             117581  ...  126    49    57   \n",
      "1      1326   15.0     1311     25.0               1286  ...    1     1     0   \n",
      "2       835    2.0      833      4.0                829  ...    0     0     0   \n",
      "3       124    2.0      122      3.0                119  ...    1     0     0   \n",
      "4       531    2.0      529      4.0                525  ...    0     0     0   \n",
      "\n",
      "   PCPE-PCPC-PCPA  PODEMOS-IU  JUNTS  IGRE  VOLT  CV-EC  CEX-CREX-PREX  \n",
      "0             153       14985    553    49   113    537             79  \n",
      "1               2         175      7     0     1      4              0  \n",
      "2               1          50      6     0     0      1              0  \n",
      "3               0          24      0     0     0      0              0  \n",
      "4               0          45      3     0     0      1              0  \n",
      "\n",
      "[5 rows x 43 columns]\n"
     ]
    }
   ],
   "source": [
    "try:\n",
    "    df = pd.read_csv('../data/MunE19_c.csv', sep=';', encoding='ISO-8859-1')\n",
    "    print(df.head())\n",
    "except Exception as e:\n",
    "    print(f\"❌ Error al leer el archivo CSV: {e}\")"
   ]
  },
  {
   "cell_type": "code",
   "execution_count": 5,
   "metadata": {},
   "outputs": [],
   "source": [
    "# Cargar variables de entorno desde el archivo .env\n",
    "load_dotenv()\n",
    "\n",
    "# Obtener las variables de entorno\n",
    "host = os.getenv('HOST')\n",
    "port = os.getenv('PORT')\n",
    "database = os.getenv('DATABASE')\n",
    "user = os.getenv('USER')\n",
    "password = os.getenv('PASSWORD')"
   ]
  },
  {
   "cell_type": "code",
   "execution_count": 6,
   "metadata": {},
   "outputs": [
    {
     "name": "stdout",
     "output_type": "stream",
     "text": [
      "✅ Conexión establecida a MySQL\n",
      "🔒 Conexión cerrada.\n"
     ]
    }
   ],
   "source": [
    "try:\n",
    "    # Conectar a MySQL\n",
    "    conn = mysql.connector.connect(\n",
    "        host=host,\n",
    "        port=port,\n",
    "        database=database,\n",
    "        user=user,\n",
    "        password=password\n",
    "    )\n",
    "\n",
    "    if conn.is_connected():\n",
    "        print('✅ Conexión establecida a MySQL')\n",
    "        cursor = conn.cursor()\n",
    "\n",
    "        # Añadir una columna de índice como clave primaria si no existe\n",
    "        if 'id' not in df.columns:\n",
    "            df.insert(0, 'id', range(1, 1 + len(df)))\n",
    "\n",
    "        # Definir la cadena de conexión con los detalles correctos\n",
    "        connection_string = f'mysql+mysqlconnector://{user}:{password}@{host}:{port}/{database}'\n",
    "\n",
    "        # Llamar a la función para convertir el DataFrame a SQL\n",
    "        df_to_sql(df, 'elecc_europa_2019_municipios', connection_string)\n",
    "\n",
    "    else:\n",
    "        print('❌ No se pudo conectar a MySQL')\n",
    "\n",
    "except Error as e:\n",
    "    print(f\"❌ Error al conectar a MySQL: {e}\")\n",
    "\n",
    "finally:\n",
    "    if 'conn' in locals() and conn.is_connected():\n",
    "        cursor.close()\n",
    "        conn.close()\n",
    "        print('🔒 Conexión cerrada.')\n"
   ]
  }
 ],
 "metadata": {
  "kernelspec": {
   "display_name": "Python 3",
   "language": "python",
   "name": "python3"
  },
  "language_info": {
   "codemirror_mode": {
    "name": "ipython",
    "version": 3
   },
   "file_extension": ".py",
   "mimetype": "text/x-python",
   "name": "python",
   "nbconvert_exporter": "python",
   "pygments_lexer": "ipython3",
   "version": "3.11.0"
  }
 },
 "nbformat": 4,
 "nbformat_minor": 2
}

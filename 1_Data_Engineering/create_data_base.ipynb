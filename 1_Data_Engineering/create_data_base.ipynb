{
 "cells": [
  {
   "cell_type": "code",
   "execution_count": null,
   "metadata": {},
   "outputs": [],
   "source": [
    "!pip install pandas \n",
    "!pip install mysql-connector-python\n",
    "!pip install sqlalchemy\n",
    "!pip install python-dotenv\n"
   ]
  },
  {
   "cell_type": "code",
   "execution_count": null,
   "metadata": {},
   "outputs": [],
   "source": [
    "import pandas as pd\n",
    "import os\n",
    "from dotenv import load_dotenv\n",
    "from sqlalchemy import create_engine, types\n",
    "import mysql.connector\n",
    "from mysql.connector import Error\n"
   ]
  },
  {
   "cell_type": "code",
   "execution_count": null,
   "metadata": {},
   "outputs": [],
   "source": [
    "def df_to_sql(df, table_name, connection_string):\n",
    "    try:\n",
    "        # Crear un motor de conexión a la base de datos\n",
    "        engine = create_engine(connection_string)\n",
    "\n",
    "        # Añadir una columna de índice como clave primaria si no existe\n",
    "        if 'id' not in df.columns:\n",
    "            df.insert(0, 'id', range(1, 1 + len(df)))\n",
    "\n",
    "        # Obtener el tipo de datos de cada columna en el DataFrame\n",
    "        dtype_dict = {col: types.VARCHAR(length=255) for col in df.columns}\n",
    "        dtype_dict['id'] = types.INTEGER().with_variant(types.BIGINT(), 'sqlite')\n",
    "        \n",
    "        df.to_sql(name=table_name, con=engine, if_exists='replace', index=False, dtype=dtype_dict)\n",
    "        # print(f\"✅ Datos insertados en la tabla {table_name} exitosamente.\")\n",
    "        \n",
    "    except Exception as e:\n",
    "        # print(f\"❌ Error al insertar datos en MySQL: {e}\")\n",
    "        pass\n"
   ]
  },
  {
   "cell_type": "code",
   "execution_count": null,
   "metadata": {},
   "outputs": [],
   "source": [
    "try:\n",
    "    df = pd.read_csv('../data/MunE19_c.csv', sep=';', encoding='ISO-8859-1')\n",
    "    print(df.head())\n",
    "except Exception as e:\n",
    "    print(f\"❌ Error al leer el archivo CSV: {e}\")"
   ]
  },
  {
   "cell_type": "code",
   "execution_count": null,
   "metadata": {},
   "outputs": [],
   "source": [
    "# Cargar variables de entorno desde el archivo .env\n",
    "load_dotenv()\n",
    "\n",
    "# Obtener las variables de entorno\n",
    "host = os.getenv('HOST')\n",
    "port = os.getenv('PORT')\n",
    "database = os.getenv('DATABASE')\n",
    "user = os.getenv('USER')\n",
    "password = os.getenv('PASSWORD')"
   ]
  },
  {
   "cell_type": "code",
   "execution_count": null,
   "metadata": {},
   "outputs": [],
   "source": [
    "try:\n",
    "    # Conectar a MySQL\n",
    "    conn = mysql.connector.connect(\n",
    "        host=host,\n",
    "        port=port,\n",
    "        database=database,\n",
    "        user=user,\n",
    "        password=password\n",
    "    )\n",
    "\n",
    "    if conn.is_connected():\n",
    "        print('✅ Conexión establecida a MySQL')\n",
    "        cursor = conn.cursor()\n",
    "\n",
    "        # Añadir una columna de índice como clave primaria si no existe\n",
    "        if 'id' not in df.columns:\n",
    "            df.insert(0, 'id', range(1, 1 + len(df)))\n",
    "\n",
    "        # Definir la cadena de conexión con los detalles correctos\n",
    "        connection_string = f'mysql+mysqlconnector://{user}:{password}@{host}:{port}/{database}'\n",
    "\n",
    "        # Llamar a la función para convertir el DataFrame a SQL\n",
    "        df_to_sql(df, 'elecc_europa_2019_municipios', connection_string)\n",
    "\n",
    "    else:\n",
    "        print('❌ No se pudo conectar a MySQL')\n",
    "\n",
    "except Error as e:\n",
    "    print(f\"❌ Error al conectar a MySQL: {e}\")\n",
    "\n",
    "finally:\n",
    "    if 'conn' in locals() and conn.is_connected():\n",
    "        cursor.close()\n",
    "        conn.close()\n",
    "        print('🔒 Conexión cerrada.')\n"
   ]
  }
 ],
 "metadata": {
  "kernelspec": {
   "display_name": "Python 3",
   "language": "python",
   "name": "python3"
  },
  "language_info": {
   "codemirror_mode": {
    "name": "ipython",
    "version": 3
   },
   "file_extension": ".py",
   "mimetype": "text/x-python",
   "name": "python",
   "nbconvert_exporter": "python",
   "pygments_lexer": "ipython3",
   "version": "3.11.0"
  }
 },
 "nbformat": 4,
 "nbformat_minor": 2
}

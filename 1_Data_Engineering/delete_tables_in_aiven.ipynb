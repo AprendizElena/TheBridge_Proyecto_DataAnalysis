{
 "cells": [
  {
   "cell_type": "code",
   "execution_count": 1,
   "metadata": {},
   "outputs": [
    {
     "name": "stdout",
     "output_type": "stream",
     "text": [
      "Requirement already satisfied: mysql-connector-python in c:\\users\\diego\\appdata\\local\\programs\\python\\python311\\lib\\site-packages (8.4.0)\n"
     ]
    },
    {
     "name": "stderr",
     "output_type": "stream",
     "text": [
      "\n",
      "[notice] A new release of pip available: 22.3 -> 24.1\n",
      "[notice] To update, run: python.exe -m pip install --upgrade pip\n"
     ]
    }
   ],
   "source": [
    "!pip install mysql-connector-python"
   ]
  },
  {
   "cell_type": "code",
   "execution_count": 2,
   "metadata": {},
   "outputs": [],
   "source": [
    "import mysql.connector\n",
    "from mysql.connector import Error\n",
    "import os\n",
    "from dotenv import load_dotenv"
   ]
  },
  {
   "cell_type": "code",
   "execution_count": 3,
   "metadata": {},
   "outputs": [],
   "source": [
    "# Cargar variables de entorno desde el archivo .env\n",
    "load_dotenv()\n",
    "\n",
    "# Obtener las variables de entorno\n",
    "host = os.getenv('host')\n",
    "port = os.getenv('port')\n",
    "database = os.getenv('database')\n",
    "user = os.getenv('user')\n",
    "password = os.getenv('password')"
   ]
  },
  {
   "cell_type": "code",
   "execution_count": 4,
   "metadata": {},
   "outputs": [],
   "source": [
    "db_config = {\n",
    "    'user': user,\n",
    "    'password': password,\n",
    "    'host': host,\n",
    "    'port': port,\n",
    "    'database': database\n",
    "}"
   ]
  },
  {
   "cell_type": "code",
   "execution_count": 5,
   "metadata": {},
   "outputs": [
    {
     "name": "stdout",
     "output_type": "stream",
     "text": [
      "✅ Conexión exitosa a la base de datos\n",
      "Tabla datos eliminada.\n",
      "Tabla mi_tabla eliminada.\n",
      "Tabla municipios_pruebas eliminada.\n",
      "Tabla municipios_pruebas_123 eliminada.\n",
      "Tabla municipios_pruebas_1234 eliminada.\n",
      "Tabla municipios_pruebas_12345 eliminada.\n",
      "Tabla municipios_pruebas_123456 eliminada.\n",
      "Tabla municipios_pruebas_1234567 eliminada.\n",
      "✅ Todas las tablas han sido eliminadas.\n",
      "🔒 La conexión a MySQL ha sido cerrada\n"
     ]
    }
   ],
   "source": [
    "try:\n",
    "    # Conéctate a la base de datos MySQL\n",
    "    connection = mysql.connector.connect(**db_config)\n",
    "\n",
    "    if connection.is_connected():\n",
    "        print(\"✅ Conexión exitosa a la base de datos\")\n",
    "\n",
    "        # Crear un cursor y obtener todas las tablas\n",
    "        cursor = connection.cursor()\n",
    "        cursor.execute(\"SELECT table_name FROM information_schema.tables WHERE table_schema = %s\", (db_config['database'],))\n",
    "        tables = cursor.fetchall()\n",
    "\n",
    "        # Eliminar cada tabla\n",
    "        for table in tables:\n",
    "            cursor.execute(f\"DROP TABLE IF EXISTS {table[0]}\")\n",
    "            print(f\"Tabla {table[0]} eliminada.\")\n",
    "        \n",
    "        print(\"✅ Todas las tablas han sido eliminadas.\")\n",
    "\n",
    "except Error as e:\n",
    "    print(\"❌ Ocurrió un error:\", e)\n",
    "\n",
    "finally:\n",
    "    if connection.is_connected():\n",
    "        cursor.close()\n",
    "        connection.close()\n",
    "        print(\"🔒 La conexión a MySQL ha sido cerrada\")\n"
   ]
  }
 ],
 "metadata": {
  "kernelspec": {
   "display_name": "Python 3",
   "language": "python",
   "name": "python3"
  },
  "language_info": {
   "codemirror_mode": {
    "name": "ipython",
    "version": 3
   },
   "file_extension": ".py",
   "mimetype": "text/x-python",
   "name": "python",
   "nbconvert_exporter": "python",
   "pygments_lexer": "ipython3",
   "version": "3.11.0"
  }
 },
 "nbformat": 4,
 "nbformat_minor": 2
}

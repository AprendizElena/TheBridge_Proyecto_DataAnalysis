{
 "cells": [
  {
   "cell_type": "code",
   "execution_count": 234,
   "metadata": {},
   "outputs": [],
   "source": [
    "import mysql.connector\n",
    "from mysql.connector import Error\n",
    "import os\n",
    "from dotenv import load_dotenv\n",
    "import pandas as pd\n",
    "from sqlalchemy import create_engine\n"
   ]
  },
  {
   "cell_type": "code",
   "execution_count": 235,
   "metadata": {},
   "outputs": [],
   "source": [
    "# Cargar variables de entorno desde el archivo .env\n",
    "load_dotenv()\n",
    "\n",
    "# Obtener las variables de entorno\n",
    "host = os.getenv('host')\n",
    "port = os.getenv('port')\n",
    "database = os.getenv('database')\n",
    "user = os.getenv('user')\n",
    "password = os.getenv('password')\n"
   ]
  },
  {
   "cell_type": "code",
   "execution_count": 236,
   "metadata": {},
   "outputs": [],
   "source": [
    "csv_file_path = '../data/MunE19_c_mod_municipios.csv'"
   ]
  },
  {
   "cell_type": "code",
   "execution_count": 237,
   "metadata": {},
   "outputs": [],
   "source": [
    "table_name = 'municipios_pruebas_1234567'\n",
    "primary_key_column = 'index'"
   ]
  },
  {
   "cell_type": "code",
   "execution_count": 238,
   "metadata": {},
   "outputs": [
    {
     "name": "stdout",
     "output_type": "stream",
     "text": [
      "✅ Successfully connected to the database\n",
      "🛠️ Table 'municipios_pruebas_1234567' created or already exists.\n",
      "ℹ️ Inserting data into 'municipios_pruebas_1234567'...\n",
      "Inserted 10 rows...\n",
      "Inserted 20 rows...\n",
      "Inserted 30 rows...\n",
      "Inserted 40 rows...\n",
      "Inserted 50 rows...\n",
      "Inserted 60 rows...\n",
      "Inserted 70 rows...\n",
      "Inserted 80 rows...\n",
      "Inserted 90 rows...\n",
      "Inserted 100 rows...\n",
      "Inserted 110 rows...\n",
      "Inserted 120 rows...\n",
      "Inserted 130 rows...\n",
      "Inserted 140 rows...\n",
      "Inserted 150 rows...\n",
      "Inserted 160 rows...\n",
      "Inserted 170 rows...\n",
      "Inserted 180 rows...\n",
      "Inserted 190 rows...\n",
      "Inserted 200 rows...\n",
      "Inserted 210 rows...\n",
      "Inserted 220 rows...\n",
      "Inserted 230 rows...\n",
      "Inserted 240 rows...\n",
      "Inserted 250 rows...\n",
      "✨ Data successfully inserted into 'municipios_pruebas_1234567'\n",
      "🔒 MySQL connection is closed\n"
     ]
    }
   ],
   "source": [
    "try:\n",
    "    # Connect to the MySQL database\n",
    "    connection = mysql.connector.connect(\n",
    "        user=user,\n",
    "        password=password,\n",
    "        host=host,\n",
    "        port=port,\n",
    "        database=database\n",
    "    )\n",
    "    \n",
    "    if connection.is_connected():\n",
    "        print(\"✅ Successfully connected to the database\")\n",
    "\n",
    "        df = pd.read_csv(csv_file_path, sep=',', encoding='ISO-8859-1')\n",
    "\n",
    "        # Handle NaN values in the DataFrame\n",
    "        df = df.where(pd.notnull(df), None)  # Replace NaN with None (NULL in MySQL)\n",
    "\n",
    "        # Create a cursor and execute the query\n",
    "        cursor = connection.cursor()\n",
    "\n",
    "        # Create table if it does not exist\n",
    "        # Generate a CREATE TABLE statement based on the DataFrame columns\n",
    "        columns = ', '.join(f\"`{col}` VARCHAR(255)\" for col in df.columns)\n",
    "        create_table_query = f\"CREATE TABLE IF NOT EXISTS `{table_name}` ({columns}, PRIMARY KEY (`{primary_key_column}`))\"\n",
    "        cursor.execute(create_table_query)\n",
    "        print(f\"🛠️ Table '{table_name}' created or already exists.\")\n",
    "\n",
    "        # Insert data into the table\n",
    "        try:\n",
    "            print(f\"ℹ️ Inserting data into '{table_name}'...\")\n",
    "\n",
    "            # Iterate over each row in the DataFrame\n",
    "            for i, row in enumerate(df.itertuples(index=False), 1):\n",
    "                # Generate the INSERT INTO query with properly escaped column names\n",
    "                insert_query = f\"INSERT INTO `{table_name}` (`{'`, `'.join(df.columns)}`) VALUES ({', '.join(['%s']*len(df.columns))})\"\n",
    "                \n",
    "                # Execute the query with the values from the current row\n",
    "                cursor.execute(insert_query, tuple(row))\n",
    "                \n",
    "                # Print progress message\n",
    "                if i % 10 == 0:\n",
    "                    print(f\"Inserted {i} rows...\")\n",
    "\n",
    "            # Commit the changes\n",
    "            connection.commit()\n",
    "            print(f\"✨ Data successfully inserted into '{table_name}'\")\n",
    "\n",
    "        except Error as e:\n",
    "            # Handle any errors that may occur during insertion\n",
    "            print(\"❌ Error inserting data:\", e)\n",
    "\n",
    "except Error as e:\n",
    "    print(\"❌ An error occurred:\", e)\n",
    "\n",
    "finally:\n",
    "    if connection.is_connected():\n",
    "        cursor.close()\n",
    "        connection.close()\n",
    "        print(\"🔒 MySQL connection is closed\")"
   ]
  },
  {
   "cell_type": "code",
   "execution_count": 244,
   "metadata": {},
   "outputs": [
    {
     "name": "stdout",
     "output_type": "stream",
     "text": [
      "✅ Conexión exitosa a la base de datos\n",
      "🔍 Primeros 5 registros de la tabla 'municipios_pruebas_1234567':\n",
      "  index           TH Cod Comarca Cod Municipio            Ãmbito\n",
      "0     0  Araba-Alava           1            59    VITORIA-GASTEIZ\n",
      "1     1  Araba-Alava           2             1  ALEGRÃA-DULANTZI\n",
      "2    10  Araba-Alava           2            17    CAMPEZO/KANPEZU\n",
      "3   100      Bizkaia           3            91            ATXONDO\n",
      "4   101      Bizkaia           3            92              BEDIA\n",
      "🔒 Conexión MySQL cerrada\n"
     ]
    }
   ],
   "source": [
    "connection_str = f\"mysql+mysqlconnector://{user}:{password}@{host}:{port}/{database}\"\n",
    "\n",
    "try:\n",
    "    # Conectar a la base de datos MySQL con SQLAlchemy\n",
    "    engine = create_engine(connection_str)\n",
    "    connection = engine.connect()\n",
    "\n",
    "    print(\"✅ Conexión exitosa a la base de datos\")\n",
    "\n",
    "    # Consultar los datos de la tabla y cargarlos en un DataFrame usando SQLAlchemy\n",
    "    query = f\"SELECT * FROM `{table_name}`\"\n",
    "    df = pd.read_sql(query, con=engine)\n",
    "\n",
    "    # Mostrar los primeros 5 registros para verificar\n",
    "    print(f\"🔍 Primeros 5 registros de la tabla '{table_name}':\")\n",
    "    print(df.head())\n",
    "\n",
    "except mysql.connector.Error as e:\n",
    "    print(f\"❌ Error al conectar a la base de datos: {e}\")\n",
    "\n",
    "finally:\n",
    "    # Cerrar la conexión a la base de datos\n",
    "    if 'connection' in locals() and connection is not None:\n",
    "        connection.close()\n",
    "        print(\"🔒 Conexión MySQL cerrada\")"
   ]
  }
 ],
 "metadata": {
  "kernelspec": {
   "display_name": "Python 3",
   "language": "python",
   "name": "python3"
  },
  "language_info": {
   "codemirror_mode": {
    "name": "ipython",
    "version": 3
   },
   "file_extension": ".py",
   "mimetype": "text/x-python",
   "name": "python",
   "nbconvert_exporter": "python",
   "pygments_lexer": "ipython3",
   "version": "3.10.12"
  }
 },
 "nbformat": 4,
 "nbformat_minor": 2
}
